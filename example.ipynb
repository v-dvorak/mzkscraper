{
 "cells": [
  {
   "cell_type": "markdown",
   "metadata": {},
   "source": [
    "# UUID retrieval\n",
    "\n",
    "## Create search query and retrieve corresponding document UUIDs\n",
    "\n",
    "For effective document UUID retrieval we need Solr search query, the query can be generated using provided `QueryFactory` or its implementation inside `MZKScraper`. `QueryFactory` is just a reverse-engineered script that runs on MZK's website to convert human-readable queries into Solr queries for direct access through API, and it is not perfect.\n",
    "\n",
    "In case of text-based search or more complicated conditions, `MZKScraper`'s `retrieve_query_directly_from_mzk` method has to be used. This method uses `seleniumwire` to dynamically load the page and catches the XHR call that contains the wanted Solr query.\n",
    "\n",
    "> Note: Easiest way to obtain parameters is to open MZK website and search for desired documents, the query is a part of pages url.\n",
    "\n",
    "### Resources\n",
    "\n",
    "- [JavaScript implementation of human-readable to Solr method](https://github.com/ceskaexpedice/kramerius-web-client/blob/master/src/app/services/solr.service.ts)\n",
    "- [supported languages](docs/languages.json)\n",
    "- [supported \"physical locations\"](docs/physical_locations.json)\n",
    "\n",
    "### Limitations\n",
    "\n",
    "`convolute` and `soundrecording` are supported as `doctypes`, but content UUIDs are not retrievable with the current implementation."
   ]
  },
  {
   "cell_type": "code",
   "metadata": {},
   "source": [
    "from mzkscraper.Scraper import MZKScraper\n",
    "\n",
    "scraper = MZKScraper()\n",
    "\n",
    "# create Solr query\n",
    "solr_query = scraper.construct_solr_query_with_qf(licences=\"public\", doctypes=\"sheetmusic\")\n",
    "print(solr_query)\n",
    "\n",
    "# retrieve first 10 documents by query\n",
    "retrieved_documents = scraper.retrieve_document_ids_by_solr_query(solr_query, requested_document_count=10)\n",
    "\n",
    "# print results\n",
    "print(f\"Number of retrieved documents: {len(retrieved_documents)}\")\n",
    "for i, result in enumerate(retrieved_documents):\n",
    "    print(f\"{i}: {result}\")"
   ],
   "outputs": [],
   "execution_count": null
  },
  {
   "metadata": {},
   "cell_type": "code",
   "source": [
    "# create human-readable query\n",
    "hm_query = scraper.construct_hm_query(text_query=\"Komenský\")\n",
    "print(hm_query)\n",
    "\n",
    "# load MZK with seleniumwire and catch XHR\n",
    "solr_query = scraper.transform_query_from_hm_to_solr_using_mzk(hm_query)\n",
    "print(solr_query)\n",
    "\n",
    "# retrieve first 10 documents by query\n",
    "retrieved_documents2 = scraper.retrieve_document_ids_by_solr_query(solr_query, requested_document_count=10)\n",
    "\n",
    "# print results\n",
    "print(f\"Number of retrieved documents: {len(retrieved_documents2)}\")\n",
    "for i, result in enumerate(retrieved_documents2):\n",
    "    print(f\"{i}: {result}\")"
   ],
   "outputs": [],
   "execution_count": null
  },
  {
   "cell_type": "markdown",
   "metadata": {},
   "source": [
    "## Retrieve page UUIDs from a document UUID\n",
    "\n",
    "MZK provides labels for each page (roughly) in this format:\n",
    "\n",
    "- `[\"number\"\"letter\"] (\"type\")`\n",
    "- `[\"number\"] (\"type\")`\n",
    "- `\"number\" (\"type\")`\n",
    "- `\"number\" \"type\"`\n",
    "\n",
    "and possibly any other combination of these.\n",
    "\n",
    "When processing the page, the label gets stripped only to `\"type\"`. MZK labels are in camel case, by default we output in snake case. If labels are to be filtered inside the method, the `valid_labels` should be a list of labels in snake case."
   ]
  },
  {
   "cell_type": "code",
   "metadata": {},
   "source": [
    "# retrieve page uuids using document uuid\n",
    "retrieved_pages = scraper.get_pages_in_document(retrieved_documents[0])\n",
    "for i, page in enumerate(retrieved_pages):\n",
    "    print(f\"{i + 1}: {page.page_id} label: {page.label}\")"
   ],
   "outputs": [],
   "execution_count": null
  },
  {
   "cell_type": "code",
   "metadata": {},
   "source": [
    "# retrieve only title pages (collecting all page uuids and filtering them afterwards is also an option)\n",
    "document_title_pages = scraper.get_pages_in_document(retrieved_documents[0], valid_labels=[\"TitlePage\"])\n",
    "for i, page in enumerate(document_title_pages):\n",
    "    print(f\"{i + 1}: {page.page_id} label: {page.label}\")"
   ],
   "outputs": [],
   "execution_count": null
  },
  {
   "cell_type": "markdown",
   "metadata": {},
   "source": [
    "## Display/download image using its UUID"
   ]
  },
  {
   "cell_type": "code",
   "metadata": {},
   "source": [
    "scraper.get_image(document_title_pages[0].page_id)\n",
    "\n",
    "# download page\n",
    "# scraper.download_image(\n",
    "#     document_title_pages[0].page_id,\n",
    "#     \"document_title_page.jpg\",\n",
    "#     Path(\"path/to/the/your_dir\"),\n",
    "#     verbose=True\n",
    "# )"
   ],
   "outputs": [],
   "execution_count": null
  },
  {
   "cell_type": "markdown",
   "metadata": {},
   "source": [
    "# Citations\n",
    "\n",
    "## Collect information about a document\n",
    "\n",
    "Plain text ISO690 citation can be requested directly from MZK. Other citations are generated using MZK's API and returned as a class `Citation`, that is easily extensible."
   ]
  },
  {
   "cell_type": "code",
   "metadata": {},
   "source": [
    "from mzkscraper.Citations.CitationGenerator import MZKCitationGenerator\n",
    "\n",
    "citgen = MZKCitationGenerator()\n",
    "\n",
    "# cite page\n",
    "print(citgen.get_iso_690_citation_directly(retrieved_pages[0].page_id))\n",
    "print()\n",
    "# cite document\n",
    "print(citgen.get_iso_690_citation_directly(retrieved_documents[0]))\n",
    "print()\n",
    "# cite document without italicized title\n",
    "print(citgen.get_iso_690_citation_directly(retrieved_documents[0], italic=False))"
   ],
   "outputs": [],
   "execution_count": null
  },
  {
   "metadata": {},
   "cell_type": "code",
   "source": [
    "# cite pages with indexes [2, 3, 6, 10]\n",
    "# this method requests document's metadata and then stores relevant ones as Citation (class)\n",
    "cited_pages = [\n",
    "    citgen.retrieve_citation_data_from_document_metadata(\n",
    "        retrieved_documents[0], retrieved_pages[index].page_id) for index in [2, 3, 6, 10]\n",
    "]\n",
    "\n",
    "for cit in cited_pages:\n",
    "    print(cit)\n",
    "    print()"
   ],
   "outputs": [],
   "execution_count": null
  },
  {
   "metadata": {},
   "cell_type": "markdown",
   "source": [
    "## Merge citations\n",
    "\n",
    "Sometimes we have multiple citations of one document, the only difference being page numbers, we can merge those."
   ]
  },
  {
   "metadata": {},
   "cell_type": "code",
   "source": [
    "grouped_citations = citgen.group_page_citation_by_document_id(cited_pages)\n",
    "\n",
    "for cit in grouped_citations:\n",
    "    print(cit)\n",
    "    print()"
   ],
   "outputs": [],
   "execution_count": null
  },
  {
   "metadata": {},
   "cell_type": "markdown",
   "source": "## Generate citations in ISO690 and BibTex format"
  },
  {
   "metadata": {},
   "cell_type": "code",
   "source": [
    "print(grouped_citations[0].get_iso_690_citation())\n",
    "print()\n",
    "print(grouped_citations[0].get_bibtex_citation())"
   ],
   "outputs": [],
   "execution_count": null
  }
 ],
 "metadata": {
  "kernelspec": {
   "display_name": "Python 3",
   "language": "python",
   "name": "python3"
  },
  "language_info": {
   "codemirror_mode": {
    "name": "ipython",
    "version": 3
   },
   "file_extension": ".py",
   "mimetype": "text/x-python",
   "name": "python",
   "nbconvert_exporter": "python",
   "pygments_lexer": "ipython3",
   "version": "3.11.9"
  }
 },
 "nbformat": 4,
 "nbformat_minor": 2
}
